{
 "cells": [
  {
   "cell_type": "code",
   "execution_count": 19,
   "metadata": {},
   "outputs": [],
   "source": [
    "# face recognisation\n",
    "\n",
    "import numpy as np\n",
    "import os\n",
    "import cv2"
   ]
  },
  {
   "cell_type": "markdown",
   "metadata": {},
   "source": [
    "def dist(x1,x2):\n",
    "    return np.sqrt(sum((x1-x2)**2))\n",
    "\n",
    "def knn(X,Y,querypoint,k=5):\n",
    "    vals=[]\n",
    "    m=X.shape[0]\n",
    "    #print(m)\n",
    "    \n",
    "    for i in range(m):\n",
    "        d=dist(querypoint,X[i])\n",
    "        vals.append((d,Y[i]))\n",
    "        \n",
    "    vals=sorted(vals)\n",
    "    vals=vals[:k]\n",
    "    \n",
    "    vals=np.array(vals)\n",
    "    new_vals=np.unique(vals[:,1],return_counts=True)\n",
    "    #print(new_vals)\n",
    "    \n",
    "    index=new_vals[1].argmax()\n",
    "    pred=new_vals[0][index]\n",
    "    \n",
    "    return pred"
   ]
  },
  {
   "cell_type": "code",
   "execution_count": 20,
   "metadata": {},
   "outputs": [],
   "source": [
    "from sklearn.neighbors import KNeighborsClassifier \n",
    "\n",
    "knn =KNeighborsClassifier(n_neighbors=25)\n",
    "\n"
   ]
  },
  {
   "cell_type": "code",
   "execution_count": 21,
   "metadata": {},
   "outputs": [
    {
     "name": "stdout",
     "output_type": "stream",
     "text": [
      "loaded aryan.npy\n",
      "loaded bond.npy\n",
      "loaded mohan.npy\n",
      "loaded mudita.npy\n",
      "loaded pulkit.npy\n",
      "[[ 22  34  22 ...  84 171 154]\n",
      " [ 33  29  21 ...  75 166 149]\n",
      " [ 93  99  98 ... 106 182 156]\n",
      " ...\n",
      " [104 111 127 ... 118 123 131]\n",
      " [ 98 107 124 ... 119 122 125]\n",
      " [ 95 100 120 ... 112 122 127]]\n",
      "[0. 0. 0. 0. 0. 0. 0. 0. 0. 0. 0. 0. 0. 0. 0. 0. 0. 0. 0. 0. 0. 0. 0. 0.\n",
      " 0. 0. 0. 0. 0. 0. 0. 0. 0. 0. 0. 0. 0. 0. 0. 0. 0. 0. 0. 0. 0. 0. 0. 0.\n",
      " 0. 0. 0. 0. 0. 0. 0. 0. 0. 0. 0. 0. 0. 0. 0. 0. 0. 0. 0. 0. 0. 0. 0. 0.\n",
      " 0. 0. 0. 0. 0. 0. 0. 0. 0. 0. 0. 0. 0. 0. 0. 0. 1. 1. 1. 1. 1. 1. 1. 1.\n",
      " 1. 1. 1. 1. 1. 1. 1. 1. 1. 1. 1. 1. 1. 1. 1. 1. 1. 1. 1. 1. 1. 1. 1. 1.\n",
      " 1. 1. 1. 1. 1. 1. 1. 1. 1. 1. 1. 1. 1. 1. 1. 1. 1. 1. 1. 1. 1. 1. 1. 1.\n",
      " 1. 1. 1. 1. 1. 1. 1. 1. 1. 1. 1. 1. 1. 1. 1. 1. 1. 1. 1. 1. 1. 1. 1. 1.\n",
      " 1. 1. 1. 1. 1. 1. 1. 1. 1. 1. 1. 1. 1. 1. 1. 1. 1. 1. 1. 1. 1. 1. 1. 1.\n",
      " 1. 1. 1. 1. 1. 1. 1. 1. 1. 1. 1. 1. 1. 1. 1. 1. 1. 1. 1. 1. 1. 1. 1. 2.\n",
      " 2. 2. 2. 2. 2. 2. 2. 2. 2. 2. 2. 2. 2. 2. 2. 2. 2. 2. 2. 2. 2. 2. 2. 2.\n",
      " 2. 2. 2. 2. 2. 2. 2. 2. 2. 2. 2. 2. 2. 2. 2. 2. 2. 2. 2. 2. 2. 2. 2. 2.\n",
      " 2. 2. 2. 2. 2. 2. 2. 2. 2. 2. 2. 2. 2. 2. 2. 2. 2. 2. 2. 2. 2. 2. 2. 2.\n",
      " 2. 2. 2. 2. 2. 2. 2. 2. 2. 2. 2. 2. 2. 2. 2. 2. 2. 2. 2. 2. 2. 2. 2. 2.\n",
      " 2. 2. 2. 2. 2. 2. 2. 2. 3. 3. 3. 3. 3. 3. 3. 3. 3. 3. 3. 3. 3. 3. 3. 3.\n",
      " 3. 3. 3. 3. 3. 3. 3. 3. 3. 3. 3. 3. 3. 3. 3. 3. 3. 3. 3. 3. 3. 3. 3. 3.\n",
      " 3. 3. 3. 3. 3. 3. 3. 3. 3. 3. 3. 3. 3. 3. 3. 3. 3. 3. 3. 3. 3. 3. 3. 3.\n",
      " 3. 3. 3. 3. 3. 3. 3. 3. 3. 3. 3. 3. 3. 3. 3. 3. 3. 3. 3. 3. 3. 3. 3. 3.\n",
      " 3. 3. 3. 3. 3. 3. 3. 3. 3. 3. 3. 3. 3. 3. 3. 4. 4. 4. 4. 4. 4. 4. 4. 4.\n",
      " 4. 4. 4. 4. 4. 4. 4. 4. 4. 4. 4. 4. 4. 4. 4. 4. 4. 4. 4. 4. 4. 4. 4. 4.\n",
      " 4. 4. 4. 4. 4. 4. 4. 4. 4. 4. 4. 4. 4. 4. 4. 4. 4. 4. 4. 4. 4. 4. 4. 4.\n",
      " 4. 4. 4. 4. 4. 4. 4. 4. 4. 4. 4. 4. 4. 4. 4. 4. 4. 4. 4. 4. 4. 4. 4. 4.\n",
      " 4. 4. 4. 4. 4. 4. 4. 4. 4. 4. 4. 4. 4. 4. 4. 4. 4. 4. 4. 4. 4. 4. 4. 4.\n",
      " 4. 4. 4. 4. 4. 4. 4. 4. 4. 4. 4. 4. 4. 4. 4. 4. 4. 4. 4. 4. 4. 4. 4.]\n"
     ]
    }
   ],
   "source": [
    "cap=cv2.VideoCapture(0)\n",
    "\n",
    "face_cascade=cv2.CascadeClassifier(\"haarcascade_frontalface_alt.xml\")\n",
    "skip=0\n",
    "dataset_path='./data/'\n",
    "face_data=[]\n",
    "labels=[]\n",
    "\n",
    "classId=0\n",
    "names={}\n",
    "for fx in os.listdir(dataset_path):\n",
    "    if fx.endswith('.npy'):\n",
    "        names[classId]=fx[:-4]\n",
    "        print(\"loaded \"+fx)\n",
    "        data_item=np.load(dataset_path+fx)\n",
    "        face_data.append(data_item)\n",
    "        \n",
    "        target=classId*np.ones((data_item.shape[0],))\n",
    "        classId+=1\n",
    "        labels.append(target)\n",
    "        \n",
    "face_data=np.concatenate(face_data,axis=0)\n",
    "face_labels=np.concatenate(labels,axis=0)\n",
    "\n",
    "print(face_data)\n",
    "print(face_labels)\n",
    "\n",
    "\n"
   ]
  },
  {
   "cell_type": "code",
   "execution_count": 22,
   "metadata": {},
   "outputs": [
    {
     "data": {
      "text/plain": [
       "KNeighborsClassifier(algorithm='auto', leaf_size=30, metric='minkowski',\n",
       "                     metric_params=None, n_jobs=None, n_neighbors=25, p=2,\n",
       "                     weights='uniform')"
      ]
     },
     "execution_count": 22,
     "metadata": {},
     "output_type": "execute_result"
    }
   ],
   "source": [
    "knn.fit(face_data,face_labels)"
   ]
  },
  {
   "cell_type": "code",
   "execution_count": 23,
   "metadata": {},
   "outputs": [],
   "source": [
    "while True:\n",
    "    ret,frame=cap.read()\n",
    "    if ret ==False:\n",
    "        continue\n",
    "    faces=face_cascade.detectMultiScale(frame,1.3,5)\n",
    "    \n",
    "    for face in faces:\n",
    "        x,y,w,h=face\n",
    "        offset = 10\n",
    "        face_section = frame[y-offset:y+h+offset,x-offset:x+w+offset]\n",
    "        face_section = cv2.resize(face_section,(100,100))\n",
    "        \n",
    "        out=knn.predict([face_section.flatten()])\n",
    "        pred_name=names[int(out)]\n",
    "        cv2.putText(frame,pred_name,(x,y-10),cv2.FONT_HERSHEY_SIMPLEX,1,(0,255,255),2,cv2.LINE_AA)\n",
    "        cv2.rectangle(frame,(x,y),(x+w,y+h),(0,255,255),3)\n",
    "        \n",
    "    cv2.imshow(\"Faces\",frame)\n",
    "    key_pressed=cv2.waitKey(1) & 0xFF\n",
    "    if key_pressed == ord('q'):\n",
    "        break\n",
    "        \n",
    "cap.release()\n",
    "cv2.destroyAllWindows()"
   ]
  },
  {
   "cell_type": "code",
   "execution_count": null,
   "metadata": {},
   "outputs": [],
   "source": [
    "from sklearn.model_selection import train_test_split\n",
    "from sklearn import metrics"
   ]
  },
  {
   "cell_type": "code",
   "execution_count": 7,
   "metadata": {},
   "outputs": [],
   "source": [
    "xtrain, xtest,ytrain,ytest=train_test_split(face_data,face_labels,test_size=0.4,random_state=5)"
   ]
  },
  {
   "cell_type": "code",
   "execution_count": 8,
   "metadata": {},
   "outputs": [
    {
     "data": {
      "text/plain": [
       "KNeighborsClassifier(algorithm='auto', leaf_size=30, metric='minkowski',\n",
       "                     metric_params=None, n_jobs=None, n_neighbors=15, p=2,\n",
       "                     weights='uniform')"
      ]
     },
     "execution_count": 8,
     "metadata": {},
     "output_type": "execute_result"
    }
   ],
   "source": [
    "knn.fit(xtrain,ytrain)"
   ]
  },
  {
   "cell_type": "code",
   "execution_count": null,
   "metadata": {},
   "outputs": [],
   "source": [
    "ypred=[]\n",
    "for i in range(len(xtest)):\n",
    "    ypred.append(knn.predict([xtest[i]]))"
   ]
  },
  {
   "cell_type": "code",
   "execution_count": 14,
   "metadata": {},
   "outputs": [
    {
     "name": "stdout",
     "output_type": "stream",
     "text": [
      "<class 'numpy.ndarray'>\n"
     ]
    }
   ],
   "source": [
    "print(type(ytest))"
   ]
  },
  {
   "cell_type": "code",
   "execution_count": 15,
   "metadata": {},
   "outputs": [],
   "source": [
    "ypred=np.array(ypred)\n",
    "ypred=ypred.reshape(-1)"
   ]
  },
  {
   "cell_type": "code",
   "execution_count": 16,
   "metadata": {},
   "outputs": [
    {
     "data": {
      "text/plain": [
       "0.9523809523809523"
      ]
     },
     "execution_count": 16,
     "metadata": {},
     "output_type": "execute_result"
    }
   ],
   "source": [
    "metrics.accuracy_score(ypred,ytest)"
   ]
  },
  {
   "cell_type": "code",
   "execution_count": 17,
   "metadata": {},
   "outputs": [
    {
     "name": "stdout",
     "output_type": "stream",
     "text": [
      "[1. 1. 3. 2. 0. 1. 1. 1. 2. 2. 0. 1. 1. 0. 0. 2. 0. 1. 1. 2. 1. 3. 2. 1.\n",
      " 1. 3. 1. 2. 0. 1. 1. 2. 1. 0. 0. 0. 3. 3. 1. 3. 1. 0. 3. 2. 2. 2. 3. 2.\n",
      " 2. 3. 0. 2. 3. 0. 0. 1. 1. 2. 3. 2. 2. 1. 2. 1. 2. 0. 1. 3. 0. 2. 1. 0.\n",
      " 0. 3. 1. 1. 0. 2. 3. 2. 2. 2. 1. 0. 1. 1. 3. 2. 2. 3. 1. 2. 2. 2. 2. 2.\n",
      " 0. 1. 0. 2. 1. 1. 3. 1. 3. 0. 1. 2. 3. 2. 0. 0. 3. 3. 2. 1. 0. 2. 0. 2.\n",
      " 0. 3. 2. 2. 0. 2. 1. 0. 1. 0. 2. 2. 1. 2. 0. 1. 3. 1. 2. 2. 1. 1. 3. 2.\n",
      " 0. 3. 2. 3. 3. 1. 1. 0. 0. 2. 2. 1. 1. 3. 3. 0. 2. 3. 0. 1. 0. 2. 2. 0.\n",
      " 1. 1. 2. 1. 3. 1. 1. 2. 2. 1. 1. 2. 3. 2. 2. 3. 1. 1. 1. 2. 3. 0. 1. 1.\n",
      " 2. 0. 1. 2. 1. 1. 0. 0. 0. 2. 2. 0. 0. 0. 1. 2. 0. 2. 1. 1. 2. 2. 0. 0.\n",
      " 1. 1. 2. 3.]\n",
      "[1. 1. 2. 3. 2. 2. 0. 0. 3. 3. 0. 0. 1. 3. 0. 0. 3. 1. 2. 2. 3. 1. 1. 1.\n",
      " 0. 3. 3. 0. 1. 0. 1. 0. 1. 2. 2. 3. 3. 0. 3. 2. 0. 2. 2. 3. 2. 3. 2. 3.\n",
      " 2. 2. 2. 2. 1. 3. 1. 3. 1. 1. 0. 0. 2. 1. 0. 2. 3. 0. 3. 1. 1. 1. 3. 3.\n",
      " 1. 1. 3. 2. 2. 0. 0. 0. 1. 2. 1. 0. 0. 2. 1. 1. 1. 2. 2. 1. 3. 3. 3. 0.\n",
      " 3. 2. 3. 2. 0. 1. 0. 2. 0. 2. 1. 0. 2. 3. 2. 3. 0. 3. 0. 3. 2. 2. 3. 0.\n",
      " 1. 3. 2. 2. 0. 1. 0. 0. 0. 0. 0. 0. 0. 1. 3. 1. 0. 1. 0. 2. 1. 1. 1. 3.\n",
      " 3. 1. 3.]\n",
      "[1. 1. 2. 3. 2. 2. 0. 0. 3. 3. 0. 0. 1. 3. 0. 3. 3. 1. 2. 2. 3. 1. 1. 1.\n",
      " 0. 3. 3. 0. 3. 3. 1. 0. 1. 2. 2. 3. 3. 0. 3. 2. 3. 2. 2. 3. 2. 3. 2. 3.\n",
      " 2. 2. 2. 2. 1. 3. 1. 3. 1. 1. 0. 0. 2. 1. 0. 2. 3. 1. 3. 1. 1. 1. 3. 3.\n",
      " 1. 1. 3. 2. 2. 0. 0. 0. 1. 2. 1. 0. 0. 2. 1. 1. 1. 2. 2. 1. 3. 3. 3. 0.\n",
      " 3. 2. 3. 2. 0. 1. 0. 2. 0. 2. 1. 0. 2. 3. 2. 3. 0. 3. 1. 3. 2. 2. 3. 0.\n",
      " 1. 3. 2. 2. 0. 1. 0. 0. 3. 0. 0. 0. 0. 1. 3. 1. 0. 1. 0. 2. 1. 1. 1. 3.\n",
      " 3. 1. 3.]\n"
     ]
    }
   ],
   "source": [
    "print(ytrain)\n",
    "print(ytest)\n",
    "print(ypred)"
   ]
  },
  {
   "cell_type": "code",
   "execution_count": null,
   "metadata": {},
   "outputs": [],
   "source": []
  },
  {
   "cell_type": "code",
   "execution_count": null,
   "metadata": {},
   "outputs": [],
   "source": []
  }
 ],
 "metadata": {
  "kernelspec": {
   "display_name": "Python 3",
   "language": "python",
   "name": "python3"
  }
 },
 "nbformat": 4,
 "nbformat_minor": 2
}
